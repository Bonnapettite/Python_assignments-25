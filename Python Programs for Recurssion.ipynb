{
 "cells": [
  {
   "cell_type": "markdown",
   "id": "a1847107-12ba-4c2a-84e9-8d4183613947",
   "metadata": {},
   "source": [
    "# 1. Write a Python Program to Display Fibonacci Sequence Using Recursion?"
   ]
  },
  {
   "cell_type": "code",
   "execution_count": 6,
   "id": "bcd4693b-b053-4d11-b9fe-ae54f987ad73",
   "metadata": {},
   "outputs": [],
   "source": [
    "def fibonacci_sequence(num):\n",
    "    if num==0:\n",
    "        return 0\n",
    "    if num==1:\n",
    "        return 1\n",
    "    return fibonacci_sequence(num-1) + fibonacci_sequence(num-2)"
   ]
  },
  {
   "cell_type": "code",
   "execution_count": 8,
   "id": "0912922e-55df-41b1-9a29-e72aa61228cc",
   "metadata": {},
   "outputs": [
    {
     "data": {
      "text/plain": [
       "6765"
      ]
     },
     "execution_count": 8,
     "metadata": {},
     "output_type": "execute_result"
    }
   ],
   "source": [
    "fibonacci_sequence(20)"
   ]
  },
  {
   "cell_type": "markdown",
   "id": "172ffa7a-f1dc-4721-bf72-064ee9f6c326",
   "metadata": {},
   "source": [
    "# 2. Write a Python Program to Find Factorial of Number Using Recursion?"
   ]
  },
  {
   "cell_type": "code",
   "execution_count": 11,
   "id": "63ceb762-4aac-4d63-9a20-fddfca7b7f0f",
   "metadata": {},
   "outputs": [],
   "source": [
    "def factorial(num):\n",
    "    if num==0 or num==1:\n",
    "        return 1\n",
    "    return num * factorial(num-1)"
   ]
  },
  {
   "cell_type": "code",
   "execution_count": 15,
   "id": "f0203ce6-73b4-4116-87e9-46a36257e30f",
   "metadata": {},
   "outputs": [
    {
     "data": {
      "text/plain": [
       "2432902008176640000"
      ]
     },
     "execution_count": 15,
     "metadata": {},
     "output_type": "execute_result"
    }
   ],
   "source": [
    "factorial(20)"
   ]
  },
  {
   "cell_type": "markdown",
   "id": "09f04166-5620-489f-8925-9128d67db2dc",
   "metadata": {},
   "source": [
    "# 3. Write a Python Program to calculate your Body Mass Index?"
   ]
  },
  {
   "cell_type": "code",
   "execution_count": 22,
   "id": "4e1b0c04-92b6-4436-85f1-8435898c3ecb",
   "metadata": {},
   "outputs": [
    {
     "name": "stdin",
     "output_type": "stream",
     "text": [
      "Enter your weight in kilograms:  80\n",
      "Enter your height in meters:  1.80\n"
     ]
    },
    {
     "name": "stdout",
     "output_type": "stream",
     "text": [
      "Your BMI is: 24.69\n",
      "You have a normal weight.\n"
     ]
    }
   ],
   "source": [
    "# Function to calculate BMI \n",
    "def calculate_bmi(weight, height):\n",
    "    bmi = weight / (height ** 2) \n",
    "    return bmi \n",
    "# Driver code \n",
    "weight = float(input(\"Enter your weight in kilograms: \")) \n",
    "height = float(input(\"Enter your height in meters: \")) \n",
    "bmi = calculate_bmi(weight, height) \n",
    "print(f\"Your BMI is: {bmi:.2f}\") \n",
    "# Interpretation of BMI \n",
    "if bmi < 18.5: \n",
    "    print(\"You are underweight.\") \n",
    "elif 18.5 <= bmi < 24.9: \n",
    "    print(\"You have a normal weight.\") \n",
    "elif 25 <= bmi < 29.9:\n",
    "    print(\"You are overweight.\") \n",
    "else:\n",
    "    print(\"You are obese.\")"
   ]
  },
  {
   "cell_type": "markdown",
   "id": "233337df-7a4b-49ad-8fd4-695c99cbc07f",
   "metadata": {},
   "source": [
    "# 4. Write a Python Program to calculate the natural logarithm of any number?"
   ]
  },
  {
   "cell_type": "code",
   "execution_count": 33,
   "id": "edc17239-63f1-4ed8-8a0e-b40d9ec3922e",
   "metadata": {},
   "outputs": [
    {
     "data": {
      "text/plain": [
       "2.302585092994046"
      ]
     },
     "execution_count": 33,
     "metadata": {},
     "output_type": "execute_result"
    }
   ],
   "source": [
    "import math\n",
    "math.log(10)"
   ]
  },
  {
   "cell_type": "code",
   "execution_count": 31,
   "id": "90bc69c9-f4b0-4013-9c1e-4fb52111580f",
   "metadata": {},
   "outputs": [
    {
     "name": "stdin",
     "output_type": "stream",
     "text": [
      "Enter a number:  10\n"
     ]
    },
    {
     "name": "stdout",
     "output_type": "stream",
     "text": [
      "The natural logarithm of 10.0 is: 2.302585092994046\n"
     ]
    }
   ],
   "source": [
    "import math \n",
    "# Function to calculate natural logarithm \n",
    "def calculate_natural_logarithm(number): \n",
    "    if number <= 0: \n",
    "        return \"Natural logarithm is not defined for non-positive numbers.\"  \n",
    "    else: \n",
    "        return math.log(number) \n",
    "# Driver code \n",
    "number = float(input(\"Enter a number: \")) \n",
    "natural_logarithm = calculate_natural_logarithm(number) \n",
    "print(f\"The natural logarithm of {number} is: {natural_logarithm}\")"
   ]
  },
  {
   "cell_type": "markdown",
   "id": "5a060635-e9e2-4303-97c5-4bd1406d030d",
   "metadata": {},
   "source": [
    "# 5. Write a Python Program for cube sum of first n natural numbers?"
   ]
  },
  {
   "cell_type": "code",
   "execution_count": 36,
   "id": "1914dde9-fc22-4921-bea4-8b7e2332bdae",
   "metadata": {},
   "outputs": [
    {
     "name": "stdin",
     "output_type": "stream",
     "text": [
      "Enter the value of n:  20\n"
     ]
    },
    {
     "name": "stdout",
     "output_type": "stream",
     "text": [
      "The cube sum of the first 20 natural numbers is: 44100\n"
     ]
    }
   ],
   "source": [
    "# Function to calculate the cube sum of the first n natural numbers \n",
    "def cube_sum(n): \n",
    "    if n <= 0: \n",
    "        return \"Input should be a positive integer.\" \n",
    "    else:\n",
    "        sum_of_cubes = sum(i**3 for i in range(1, n + 1)) \n",
    "        return sum_of_cubes \n",
    "# Driver code \n",
    "n = int(input(\"Enter the value of n: \")) \n",
    "if n <= 0:\n",
    "    print(\"Please enter a positive integer\") \n",
    "else: \n",
    "    result = cube_sum(n) \n",
    "    print(f\"The cube sum of the first {n} natural numbers is: {result}\")"
   ]
  },
  {
   "cell_type": "code",
   "execution_count": null,
   "id": "fe3a83b4-3648-4e42-814a-ee460aa4b799",
   "metadata": {},
   "outputs": [],
   "source": []
  }
 ],
 "metadata": {
  "kernelspec": {
   "display_name": "Python 3 (ipykernel)",
   "language": "python",
   "name": "python3"
  },
  "language_info": {
   "codemirror_mode": {
    "name": "ipython",
    "version": 3
   },
   "file_extension": ".py",
   "mimetype": "text/x-python",
   "name": "python",
   "nbconvert_exporter": "python",
   "pygments_lexer": "ipython3",
   "version": "3.12.7"
  }
 },
 "nbformat": 4,
 "nbformat_minor": 5
}
