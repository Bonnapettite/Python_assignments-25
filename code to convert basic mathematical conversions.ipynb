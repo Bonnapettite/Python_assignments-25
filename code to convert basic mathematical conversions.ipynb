{
 "cells": [
  {
   "cell_type": "markdown",
   "id": "1d722873-e719-4231-b499-825b7a7dcdeb",
   "metadata": {},
   "source": [
    "# 1. Write a Python program to convert kilometers to miles?"
   ]
  },
  {
   "cell_type": "code",
   "execution_count": 2,
   "id": "8c0a5d88-aa15-4268-9dad-7bf7e00e60e8",
   "metadata": {},
   "outputs": [],
   "source": [
    "def km_to_miles(kilometers):\n",
    "    miles = kilometers * 0.621371\n",
    "    return miles"
   ]
  },
  {
   "cell_type": "code",
   "execution_count": 3,
   "id": "ef550e10-fb82-49d9-a885-30ce631fc262",
   "metadata": {},
   "outputs": [
    {
     "name": "stdin",
     "output_type": "stream",
     "text": [
      "Enter distance in kilometers:  101\n"
     ]
    },
    {
     "name": "stdout",
     "output_type": "stream",
     "text": [
      "101.0 kilometers is equal to 62.758471 miles.\n"
     ]
    }
   ],
   "source": [
    " kilometers = float(input(\"Enter distance in kilometers: \"))\n",
    "print(f\"{kilometers} kilometers is equal to {km_to_miles(kilometers)} miles.\")"
   ]
  },
  {
   "cell_type": "markdown",
   "id": "792e6b28-738f-4494-9e11-6871e7de089f",
   "metadata": {},
   "source": [
    "# 2. Write a Python program to convert Celsius to Fahrenheit?"
   ]
  },
  {
   "cell_type": "code",
   "execution_count": 5,
   "id": "a6b68bdb-28d0-4614-a22a-5a531620176f",
   "metadata": {},
   "outputs": [],
   "source": [
    "def celsius_to_fahrenheit(celsius):\n",
    "    fahrenheit = (celsius * 9/5)+32\n",
    "    print(f\"fahrenheit is in {celsius} are : {fahrenheit}\")\n",
    "    return fahrenheit"
   ]
  },
  {
   "cell_type": "code",
   "execution_count": 6,
   "id": "8d9d137d-5a5f-475c-829c-921fde482d43",
   "metadata": {},
   "outputs": [
    {
     "name": "stdin",
     "output_type": "stream",
     "text": [
      "Enterthe value of celsius : 12.2\n"
     ]
    },
    {
     "name": "stdout",
     "output_type": "stream",
     "text": [
      "fahrenheit is in 12.2 are : 53.96\n",
      "12.2 fahrenheit is equal to 53.96 fahrenheit.\n"
     ]
    }
   ],
   "source": [
    "celsius = float(input(\"Enterthe value of celsius :\"))\n",
    "print(f\"{celsius} fahrenheit is equal to {celsius_to_fahrenheit(celsius)} fahrenheit.\")"
   ]
  },
  {
   "cell_type": "markdown",
   "id": "6714ef18-d179-46b1-8e4f-6718c0c7b957",
   "metadata": {},
   "source": [
    "# 3. Write a Python program to display calendar?"
   ]
  },
  {
   "cell_type": "code",
   "execution_count": 8,
   "id": "560ad46f-5004-40ea-8e46-29b00449967d",
   "metadata": {},
   "outputs": [
    {
     "name": "stdin",
     "output_type": "stream",
     "text": [
      "Enter year:  2024\n",
      "Enter month:  3\n"
     ]
    },
    {
     "name": "stdout",
     "output_type": "stream",
     "text": [
      "     March 2024\n",
      "Mo Tu We Th Fr Sa Su\n",
      "             1  2  3\n",
      " 4  5  6  7  8  9 10\n",
      "11 12 13 14 15 16 17\n",
      "18 19 20 21 22 23 24\n",
      "25 26 27 28 29 30 31\n",
      "\n"
     ]
    }
   ],
   "source": [
    "import calendar \n",
    "def display_calendar(year, month):\n",
    "    print(calendar.month(year, month)) \n",
    "year = int(input(\"Enter year: \")) \n",
    "month = int(input(\"Enter month: \")) \n",
    "display_calendar(year, month)"
   ]
  },
  {
   "cell_type": "markdown",
   "id": "d5c7119f-c6dd-4690-8d86-a3b77507f5f5",
   "metadata": {},
   "source": [
    "# 4. Write a Python program to solve quadratic equation?"
   ]
  },
  {
   "cell_type": "code",
   "execution_count": 40,
   "id": "543c2046-e80f-4b6b-b085-92fb265aef7f",
   "metadata": {},
   "outputs": [
    {
     "name": "stdout",
     "output_type": "stream",
     "text": [
      "The solutions are (-3.414213562373095+0j) and (-0.5857864376269049+0j).\n"
     ]
    }
   ],
   "source": [
    "import cmath\n",
    "a=1\n",
    "b=4\n",
    "c=2\n",
    "dis = (b**2) - (4*a*c) \n",
    "sol1 = (-b - cmath.sqrt(dis)) / (2*a) \n",
    "sol2 = (-b + cmath.sqrt(dis)) / (2*a) \n",
    "print(f\"The solutions are {sol1} and {sol2}.\")"
   ]
  },
  {
   "cell_type": "markdown",
   "id": "873e99d9-c34f-4937-b10c-c618f6afc819",
   "metadata": {},
   "source": [
    "# 5. Write a Python program to swap two variables without temp variable?"
   ]
  },
  {
   "cell_type": "code",
   "execution_count": null,
   "id": "617db381-0905-4f51-b4ca-6223ccf9dcbb",
   "metadata": {},
   "outputs": [],
   "source": []
  }
 ],
 "metadata": {
  "kernelspec": {
   "display_name": "Python 3 (ipykernel)",
   "language": "python",
   "name": "python3"
  },
  "language_info": {
   "codemirror_mode": {
    "name": "ipython",
    "version": 3
   },
   "file_extension": ".py",
   "mimetype": "text/x-python",
   "name": "python",
   "nbconvert_exporter": "python",
   "pygments_lexer": "ipython3",
   "version": "3.12.7"
  }
 },
 "nbformat": 4,
 "nbformat_minor": 5
}
