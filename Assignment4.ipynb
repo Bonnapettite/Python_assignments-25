{
 "cells": [
  {
   "cell_type": "markdown",
   "id": "7fc61b24-0308-4ee1-bfa5-49cee00949b9",
   "metadata": {},
   "source": [
    "# 1. Write a Python Program to Find the Factorial of a Number?"
   ]
  },
  {
   "cell_type": "code",
   "execution_count": 2,
   "id": "a952dd2d-c90d-44cb-8581-3fa03dd90197",
   "metadata": {},
   "outputs": [
    {
     "name": "stdin",
     "output_type": "stream",
     "text": [
      "Enter a number:  9\n"
     ]
    },
    {
     "name": "stdout",
     "output_type": "stream",
     "text": [
      "The factorial of 9 is 362880.\n"
     ]
    }
   ],
   "source": [
    "def factorial_recursive(n):\n",
    "    if n < 0:\n",
    "        return \"Factorial does not exist for negative numbers.\" \n",
    "    if n == 0 or n == 1:\n",
    "        return 1 \n",
    "    else:\n",
    "        return n * factorial_recursive(n - 1)\n",
    "# Example usage \n",
    "number = int(input(\"Enter a number: \")) \n",
    "print(f\"The factorial of {number} is {factorial_recursive(number)}.\")"
   ]
  },
  {
   "cell_type": "markdown",
   "id": "8260c389-8288-4352-8bc7-42a8090e896f",
   "metadata": {},
   "source": [
    "# 2. Write a Python Program to Display the multiplication Table?"
   ]
  },
  {
   "cell_type": "code",
   "execution_count": 4,
   "id": "b79b37bf-684b-4950-bfce-aab86f612dda",
   "metadata": {},
   "outputs": [
    {
     "name": "stdin",
     "output_type": "stream",
     "text": [
      "Enter a number to display its multiplication table:  6\n"
     ]
    },
    {
     "name": "stdout",
     "output_type": "stream",
     "text": [
      "Multiplication Table for 6:\n",
      "6 x 1 = 6\n",
      "6 x 2 = 12\n",
      "6 x 3 = 18\n",
      "6 x 4 = 24\n",
      "6 x 5 = 30\n",
      "6 x 6 = 36\n",
      "6 x 7 = 42\n",
      "6 x 8 = 48\n",
      "6 x 9 = 54\n",
      "6 x 10 = 60\n"
     ]
    }
   ],
   "source": [
    "def display_multiplication_table(num):\n",
    "    print(f\"Multiplication Table for {num}:\")\n",
    "    for i in range(1,11):\n",
    "        print(f\"{num} x {i} = {num * i}\")\n",
    "# Example usage \n",
    "number = int(input(\"Enter a number to display its multiplication table: \")) \n",
    "display_multiplication_table(number)"
   ]
  },
  {
   "cell_type": "markdown",
   "id": "ae9199eb-074a-4d6c-a256-731eef262efa",
   "metadata": {},
   "source": [
    "# 3. Write a Python Program to Print the Fibonacci sequence?"
   ]
  },
  {
   "cell_type": "code",
   "execution_count": 18,
   "id": "a475dca6-ffe8-4f5d-b677-37479d4480d6",
   "metadata": {},
   "outputs": [
    {
     "name": "stdin",
     "output_type": "stream",
     "text": [
      "Enter the number of terms in the Fibonacci sequence:  10\n"
     ]
    },
    {
     "name": "stdout",
     "output_type": "stream",
     "text": [
      "The first 10 terms of the Fibonacci sequence are: [0, 1, 1, 2, 3, 5, 8, 13, 21, 34]\n"
     ]
    }
   ],
   "source": [
    " def fibonacci_sequence(n):\n",
    "    fib_sequence = [0, 1]\n",
    "    for i in range(2, n):\n",
    "        next_term = fib_sequence[-1] + fib_sequence[-2] \n",
    "        fib_sequence.append(next_term) \n",
    "    return fib_sequence[:n]\n",
    "# Example usage \n",
    "num_terms = int(input(\"Enter the number of terms in the Fibonacci sequence: \")) \n",
    "if num_terms <= 0:\n",
    "    print(\"Please enter a positive integer.\") \n",
    "else:\n",
    "    print(f\"The first {num_terms} terms of the Fibonacci sequence are: {fibonacci_sequence(num_terms)}\")"
   ]
  },
  {
   "cell_type": "markdown",
   "id": "d57030a0-a9f4-454c-839c-8b83358c13cf",
   "metadata": {},
   "source": [
    "# 4. Write a Python Program to Check Armstrong Number?"
   ]
  },
  {
   "cell_type": "code",
   "execution_count": 8,
   "id": "7a7d1a0a-b915-45cf-a5c1-c08b8814d844",
   "metadata": {},
   "outputs": [
    {
     "name": "stdin",
     "output_type": "stream",
     "text": [
      "Enter a number:  153\n"
     ]
    },
    {
     "name": "stdout",
     "output_type": "stream",
     "text": [
      "153 is an Armstrong number.\n"
     ]
    }
   ],
   "source": [
    "def is_armstrong(number):\n",
    "    num_str = str(number) \n",
    "    num_digits = len(num_str) \n",
    "    sum_of_powers = sum(int(digit) ** num_digits for digit in num_str) \n",
    "    return number == sum_of_powers \n",
    "# Example usage \n",
    "number = int(input(\"Enter a number: \")) \n",
    "if is_armstrong(number):\n",
    "        print(f\"{number} is an Armstrong number.\") \n",
    "else: \n",
    "        print(f\"{number} is not an Armstrong number.\")"
   ]
  },
  {
   "cell_type": "markdown",
   "id": "73fdfc2b-1673-4bc7-87fb-ac307c5f5e97",
   "metadata": {},
   "source": [
    "# 5. Write a Python Program to Find Armstrong Number in an Interval?"
   ]
  },
  {
   "cell_type": "code",
   "execution_count": 11,
   "id": "f3e71263-99c4-4de7-a119-9608306fe6d9",
   "metadata": {},
   "outputs": [
    {
     "name": "stdin",
     "output_type": "stream",
     "text": [
      "Enter the start of the interval:  1\n",
      "Enter the end of the interval:  500\n"
     ]
    },
    {
     "name": "stdout",
     "output_type": "stream",
     "text": [
      "Armstrong numbers between 1 and 500 are: [1]\n"
     ]
    }
   ],
   "source": [
    "def is_armstrong(num):\n",
    "    num_str = str(num)\n",
    "    num_digits = len(num_str)\n",
    "    sum_of_powers = sum(int(digit) ** num_digits for digit in num_str) \n",
    "    return num == sum_of_powers\n",
    "\n",
    "def find_armstrong_in_interval(start, end):\n",
    "    armstrong_numbers = [] \n",
    "    for num in range(start, end + 1):\n",
    "         if is_armstrong(num):\n",
    "             armstrong_numbers.append(num)\n",
    "     return armstrong_numbers\n",
    "# Example usage \n",
    "start = int(input(\"Enter the start of the interval: \")) \n",
    "end = int(input(\"Enter the end of the interval: \")) \n",
    "armstrong_numbers = find_armstrong_in_interval(start, end) \n",
    "print(f\"Armstrong numbers between {start} and {end} are: {armstrong_numbers}\")"
   ]
  },
  {
   "cell_type": "markdown",
   "id": "98a76145-4fcf-4cf8-9010-7a97a00da519",
   "metadata": {},
   "source": [
    "# 6. Write a Python Program to Find the Sum of Natural Numbers?"
   ]
  },
  {
   "cell_type": "code",
   "execution_count": 16,
   "id": "7f3c255b-0c8d-4fe1-9707-568ae57a1e8b",
   "metadata": {},
   "outputs": [
    {
     "name": "stdin",
     "output_type": "stream",
     "text": [
      "Enter a number:  50\n"
     ]
    },
    {
     "name": "stdout",
     "output_type": "stream",
     "text": [
      "The sum of natural numbers up to 50 is 1275\n"
     ]
    }
   ],
   "source": [
    "def sum_of_natural_numbers(n):\n",
    "    return n * (n + 1) // 2\n",
    "# Example usage \n",
    "n = int(input(\"Enter a number: \"))\n",
    "if n < 0:\n",
    "    print(\"Please enter a positive integer.\") \n",
    "else:\n",
    "    print(f\"The sum of natural numbers up to {n} is {sum_of_natural_numbers(n)}\")"
   ]
  },
  {
   "cell_type": "code",
   "execution_count": null,
   "id": "b35542d5-3244-4b01-be48-333d7e8068f5",
   "metadata": {},
   "outputs": [],
   "source": []
  }
 ],
 "metadata": {
  "kernelspec": {
   "display_name": "Python 3 (ipykernel)",
   "language": "python",
   "name": "python3"
  },
  "language_info": {
   "codemirror_mode": {
    "name": "ipython",
    "version": 3
   },
   "file_extension": ".py",
   "mimetype": "text/x-python",
   "name": "python",
   "nbconvert_exporter": "python",
   "pygments_lexer": "ipython3",
   "version": "3.12.7"
  }
 },
 "nbformat": 4,
 "nbformat_minor": 5
}
