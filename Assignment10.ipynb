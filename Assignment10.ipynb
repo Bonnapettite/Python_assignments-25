{
 "cells": [
  {
   "cell_type": "markdown",
   "id": "7070d68d-d89b-408d-a525-76debf8a7a49",
   "metadata": {},
   "source": [
    "# 1. Write a Python program to find sum of elements in list?"
   ]
  },
  {
   "cell_type": "code",
   "execution_count": 3,
   "id": "7ab5e77d-cf53-4ef1-ab02-249cb5f1a07b",
   "metadata": {},
   "outputs": [
    {
     "name": "stdin",
     "output_type": "stream",
     "text": [
      "Enter numbers separated by spaces:  1 2 3 4 5 6\n"
     ]
    },
    {
     "name": "stdout",
     "output_type": "stream",
     "text": [
      "The sum of the numbers in the list is:--> 21\n"
     ]
    }
   ],
   "source": [
    "def find_sum(lst):\n",
    "    total = 0 \n",
    "    for num in lst:\n",
    "        total += num \n",
    "    return total \n",
    "input_str = input(\"Enter numbers separated by spaces: \")\n",
    "numbers = list(map(int, input_str.split())) \n",
    "result = find_sum(numbers) \n",
    "print(\"The sum of the numbers in the list is:-->\", result)"
   ]
  },
  {
   "cell_type": "markdown",
   "id": "0ef1ab2a-91ca-481d-a0be-68df2bd61e58",
   "metadata": {},
   "source": [
    "# 2. Write a Python program to Multiply all numbers in the list?"
   ]
  },
  {
   "cell_type": "code",
   "execution_count": 7,
   "id": "ab7fbc61-f622-4e9d-9afb-3f48610f6b61",
   "metadata": {},
   "outputs": [
    {
     "name": "stdin",
     "output_type": "stream",
     "text": [
      "Enter numbers separated by spaces:   1 2 3 4 5 6\n"
     ]
    },
    {
     "name": "stdout",
     "output_type": "stream",
     "text": [
      "The product of the numbers in the list is:--> 720\n"
     ]
    }
   ],
   "source": [
    "def multiply_list(lst):\n",
    "    result = 1 \n",
    "    for num in lst:\n",
    "        result *= num \n",
    "    return result \n",
    "# Taking input from the user \n",
    "input_str = input(\"Enter numbers separated by spaces: \") \n",
    "numbers = list(map(int, input_str.split())) \n",
    "# Calculating the product of elements \n",
    "result = multiply_list(numbers) \n",
    "print(\"The product of the numbers in the list is:-->\", result)"
   ]
  },
  {
   "cell_type": "markdown",
   "id": "a5822378-4f19-4417-b385-86423b61df5d",
   "metadata": {},
   "source": [
    "# 3. Write a Python program to find smallest number in a list?"
   ]
  },
  {
   "cell_type": "code",
   "execution_count": 16,
   "id": "16e5a342-d9a1-4142-a074-0910af77ac5a",
   "metadata": {},
   "outputs": [
    {
     "name": "stdin",
     "output_type": "stream",
     "text": [
      "Enter numbers separated by spaces:  4 7 2 9\n"
     ]
    },
    {
     "name": "stdout",
     "output_type": "stream",
     "text": [
      "The smallest number in the list is:--> 2\n"
     ]
    }
   ],
   "source": [
    "def find_smallest(lst):\n",
    "    if not lst: # Check if the list is empty \n",
    "        return None # Return None for an empty list \n",
    "    smallest = lst[0] \n",
    "    for num in lst[1:]:\n",
    "        if num < smallest: \n",
    "            smallest = num \n",
    "    return smallest \n",
    "# Taking input from the user \n",
    "input_str = input(\"Enter numbers separated by spaces: \") \n",
    "numbers = list(map(int, input_str.split())) \n",
    "# Finding the smallest number \n",
    "result = find_smallest(numbers) \n",
    "if result is not None: \n",
    "    print(\"The smallest number in the list is:-->\", result) \n",
    "else:\n",
    "    print(\"The list is empty.\")"
   ]
  },
  {
   "cell_type": "markdown",
   "id": "d78347f3-8594-4c59-b965-b0e809fbccfd",
   "metadata": {},
   "source": [
    "# 4. Write a Python program to find largest number in a list?"
   ]
  },
  {
   "cell_type": "code",
   "execution_count": 19,
   "id": "fa943d7e-8711-4705-a087-5b5747da31e5",
   "metadata": {},
   "outputs": [
    {
     "name": "stdin",
     "output_type": "stream",
     "text": [
      "Enter numbers separated by spaces:   5 9 8 6\n"
     ]
    },
    {
     "name": "stdout",
     "output_type": "stream",
     "text": [
      "The largest number in the list is:--> 9\n"
     ]
    }
   ],
   "source": [
    "def find_largest(lst):\n",
    "    if not lst: # Check if the list is empty \n",
    "        return None # Return None for an empty list \n",
    "    largest = lst[0] \n",
    "    for num in lst[1:]: \n",
    "        if num > largest: \n",
    "            largest = num \n",
    "    return largest \n",
    "# Taking input from the user \n",
    "input_str = input(\"Enter numbers separated by spaces: \") \n",
    "numbers = list(map(int, input_str.split())) \n",
    "# Finding the largest number \n",
    "result = find_largest(numbers) \n",
    "if result is not None: \n",
    "    print(\"The largest number in the list is:-->\", result) \n",
    "else:\n",
    "    print(\"The list is empty.\")"
   ]
  },
  {
   "cell_type": "markdown",
   "id": "3f8e14c0-c698-45bb-b230-0e0fc7effb90",
   "metadata": {},
   "source": [
    "# 5. Write a Python program to find second largest number in a list?"
   ]
  },
  {
   "cell_type": "code",
   "execution_count": 22,
   "id": "ef0ddf9c-03a5-4768-ab79-47c6278b56e4",
   "metadata": {},
   "outputs": [
    {
     "name": "stdin",
     "output_type": "stream",
     "text": [
      "Enter numbers separated by spaces:  1  5 8                9\n"
     ]
    },
    {
     "name": "stdout",
     "output_type": "stream",
     "text": [
      "The second largest number in the list is:--> 8\n"
     ]
    }
   ],
   "source": [
    "def find_second_largest(lst):\n",
    "    if len(lst) < 2: # Check if the list has fewer than 2 elements \n",
    "        return None # Return None if there are not enough elements \n",
    "    first, second = float('-inf'), float('-inf')\n",
    "    for num in lst:\n",
    "        if num > first: \n",
    "            second = first \n",
    "            first = num \n",
    "        elif num > second and num != first: \n",
    "            second = num \n",
    "    return second \n",
    "# Taking input from the user \n",
    "input_str = input(\"Enter numbers separated by spaces: \") \n",
    "numbers = list(map(int, input_str.split())) \n",
    "# Finding the second largest number \n",
    "result = find_second_largest(numbers) \n",
    "if result is not None: \n",
    "    print(\"The second largest number in the list is:-->\", result) \n",
    "else: \n",
    "    print(\"The list doesn't have enough elements.\")"
   ]
  },
  {
   "cell_type": "markdown",
   "id": "50fea399-7aff-4844-8156-fab6fa71231f",
   "metadata": {},
   "source": [
    "# 6. Write a Python program to find N largest elements from a list?"
   ]
  },
  {
   "cell_type": "code",
   "execution_count": 27,
   "id": "e3e3ca60-f0ec-44c2-a878-d9c9bcc5def7",
   "metadata": {},
   "outputs": [
    {
     "name": "stdin",
     "output_type": "stream",
     "text": [
      "Enter numbers separated by spaces:  1 2 3 4 5 6\n",
      "Enter the value of N:  4\n"
     ]
    },
    {
     "name": "stdout",
     "output_type": "stream",
     "text": [
      "The 4 largest elements in the list are:--> [6, 5, 4, 3]\n"
     ]
    }
   ],
   "source": [
    "def find_n_largest(lst, n):\n",
    "    if len(lst) < n:# Check if the list has fewer elements than n \n",
    "        return None # Return None if there are not enough elements \n",
    "    lst.sort(reverse=True) # Sort the list in descending order \n",
    "    return lst[:n] # Return the first n elements \n",
    "# Taking input from the user \n",
    "input_str = input(\"Enter numbers separated by spaces: \") \n",
    "numbers = list(map(int, input_str.split())) \n",
    "n = int(input(\"Enter the value of N: \")) \n",
    "# Finding the N largest elements \n",
    "result = find_n_largest(numbers, n) \n",
    "if result is not None: \n",
    "    print(f\"The {n} largest elements in the list are:-->\", result) \n",
    "else: \n",
    "    print(\"The list doesn't have enough elements.\")"
   ]
  },
  {
   "cell_type": "markdown",
   "id": "73efc566-8d18-46fb-bd7b-68ea478f1481",
   "metadata": {},
   "source": [
    "# 7. Write a Python program to print even numbers in a list?"
   ]
  },
  {
   "cell_type": "code",
   "execution_count": 30,
   "id": "5da8bd81-792e-4e5f-bb55-747891074752",
   "metadata": {},
   "outputs": [
    {
     "name": "stdin",
     "output_type": "stream",
     "text": [
      "Enter numbers separated by spaces:  1 2 3 4 5 6\n"
     ]
    },
    {
     "name": "stdout",
     "output_type": "stream",
     "text": [
      "The even numbers in the list are:--> [2, 4, 6]\n"
     ]
    }
   ],
   "source": [
    "def print_even_numbers(lst):\n",
    "    even_numbers = [num for num in lst if num % 2 == 0] \n",
    "    return even_numbers \n",
    "# Taking input from the user\n",
    "input_str = input(\"Enter numbers separated by spaces: \") \n",
    "numbers = list(map(int, input_str.split())) \n",
    "# Printing even numbers \n",
    "even_numbers = print_even_numbers(numbers) \n",
    "print(\"The even numbers in the list are:-->\", even_numbers)"
   ]
  },
  {
   "cell_type": "markdown",
   "id": "8506d424-efa8-4e6f-81af-4a5bc0762919",
   "metadata": {},
   "source": [
    "# 8. Write a Python program to print odd numbers in a List?"
   ]
  },
  {
   "cell_type": "code",
   "execution_count": 33,
   "id": "3f3e2085-4321-4875-9412-bd26ca7a05c3",
   "metadata": {},
   "outputs": [
    {
     "name": "stdin",
     "output_type": "stream",
     "text": [
      "Enter numbers separated by spaces:  1 2 3 4 5 6\n"
     ]
    },
    {
     "name": "stdout",
     "output_type": "stream",
     "text": [
      "The odd numbers in the list are:--> [1, 3, 5]\n"
     ]
    }
   ],
   "source": [
    "def print_odd_numbers(lst):\n",
    "    odd_numbers = [num for num in lst if num % 2 != 0] \n",
    "    return odd_numbers \n",
    "# Taking input from the user \n",
    "input_str = input(\"Enter numbers separated by spaces: \") \n",
    "numbers = list(map(int, input_str.split())) \n",
    "# Printing odd numbers \n",
    "odd_numbers = print_odd_numbers(numbers) \n",
    "print(\"The odd numbers in the list are:-->\", odd_numbers)"
   ]
  },
  {
   "cell_type": "markdown",
   "id": "8d425bc9-222a-42a8-98e1-821cea002ac5",
   "metadata": {},
   "source": [
    "# 9. Write a Python program to Remove empty List from List?"
   ]
  },
  {
   "cell_type": "code",
   "execution_count": 36,
   "id": "0c47b30d-0c3f-47fb-a00e-d0cd9b7b3445",
   "metadata": {},
   "outputs": [
    {
     "name": "stdin",
     "output_type": "stream",
     "text": [
      "Enter lists separated by commas (e.g., [1,2],[],[3,4]):  [1,2,3],[],[1,2],[1,5,6]\n"
     ]
    },
    {
     "name": "stdout",
     "output_type": "stream",
     "text": [
      "The list after removing empty lists is:--> [[1, 2, 3], [1, 2], [1, 5, 6]]\n"
     ]
    }
   ],
   "source": [
    "def remove_empty_lists(lst):\n",
    "    # Use list comprehension to filter out empty lists \n",
    "    return [sublist for sublist in lst if sublist] \n",
    "# Taking input from the user \n",
    "input_str = input(\"Enter lists separated by commas (e.g., [1,2],[],[3,4]): \") \n",
    "# Using eval to convert input string to a list of lists \n",
    "lists = eval(input_str) # Removing empty lists \n",
    "filtered_list = remove_empty_lists(lists)\n",
    "print(\"The list after removing empty lists is:-->\", filtered_list)"
   ]
  },
  {
   "cell_type": "markdown",
   "id": "d09e53c4-0f50-4a86-9623-dbd6fbb09dc8",
   "metadata": {},
   "source": [
    "# 10. Write a Python program to Cloning or Copying a list?"
   ]
  },
  {
   "cell_type": "markdown",
   "id": "54b6df17-11c6-49ae-a8fb-be698135ba6d",
   "metadata": {},
   "source": [
    "# 1.USing Copy Method"
   ]
  },
  {
   "cell_type": "code",
   "execution_count": 39,
   "id": "3daa5760-c4a1-445e-9763-3fe45a406e51",
   "metadata": {},
   "outputs": [
    {
     "name": "stdout",
     "output_type": "stream",
     "text": [
      "Cloned list using copy(): [1, 2, 3, 4, 5]\n"
     ]
    }
   ],
   "source": [
    "original_list = [1, 2, 3, 4, 5] \n",
    "cloned_list = original_list.copy() \n",
    "print(\"Cloned list using copy():\", cloned_list)"
   ]
  },
  {
   "cell_type": "markdown",
   "id": "b02d67f1-b847-4ec1-8cdb-447588cba621",
   "metadata": {},
   "source": [
    "# 2.Using list slicing"
   ]
  },
  {
   "cell_type": "code",
   "execution_count": 46,
   "id": "7ce6cc22-e38f-4e10-a203-9ee783a21077",
   "metadata": {},
   "outputs": [
    {
     "name": "stdout",
     "output_type": "stream",
     "text": [
      "Cloned list using slicing: [1, 2, 3, 4, 5]\n"
     ]
    }
   ],
   "source": [
    "original_list = [1, 2, 3, 4, 5] \n",
    "cloned_list = original_list[:] \n",
    "print(\"Cloned list using slicing:\", cloned_list)"
   ]
  },
  {
   "cell_type": "markdown",
   "id": "d168b346-953c-4532-aa30-3f82ec82beb5",
   "metadata": {},
   "source": [
    "# 3.Using list constructor"
   ]
  },
  {
   "cell_type": "code",
   "execution_count": 49,
   "id": "15360933-1178-4803-a177-44115ffef4ba",
   "metadata": {},
   "outputs": [
    {
     "name": "stdout",
     "output_type": "stream",
     "text": [
      "Cloned list using list(): [1, 2, 3, 4, 5]\n"
     ]
    }
   ],
   "source": [
    "original_list = [1, 2, 3, 4, 5]\n",
    "cloned_list = list(original_list)\n",
    "print(\"Cloned list using list():\", cloned_list)"
   ]
  },
  {
   "cell_type": "markdown",
   "id": "aa976d2c-2dce-43ca-a46b-026aa679cfae",
   "metadata": {},
   "source": [
    "# 4.Using copy module"
   ]
  },
  {
   "cell_type": "code",
   "execution_count": 54,
   "id": "24c49349-377b-4b69-9e67-83450addf8f5",
   "metadata": {},
   "outputs": [
    {
     "name": "stdout",
     "output_type": "stream",
     "text": [
      "Cloned list using copy module: [1, 2, 3, 4, 5]\n"
     ]
    }
   ],
   "source": [
    "import copy \n",
    "original_list = [1, 2, 3, 4, 5] \n",
    "cloned_list = copy.copy(original_list) \n",
    "print(\"Cloned list using copy module:\", cloned_list)"
   ]
  },
  {
   "cell_type": "markdown",
   "id": "ccabb4cb-0160-4f1c-ad5d-5f451056daf8",
   "metadata": {},
   "source": [
    "# 5. Using deep copy"
   ]
  },
  {
   "cell_type": "code",
   "execution_count": 57,
   "id": "f59df907-b2be-4c85-89c3-c9f867da6aaa",
   "metadata": {},
   "outputs": [
    {
     "name": "stdout",
     "output_type": "stream",
     "text": [
      "Cloned list using deepcopy: [[1, 2], [3, 4], [5, 6]]\n"
     ]
    }
   ],
   "source": [
    "import copy \n",
    "original_list = [[1, 2], [3, 4], [5, 6]] \n",
    "cloned_list = copy.deepcopy(original_list) \n",
    "print(\"Cloned list using deepcopy:\", cloned_list)"
   ]
  },
  {
   "cell_type": "markdown",
   "id": "d08c5145-5563-481f-bd29-87022c0897c8",
   "metadata": {},
   "source": [
    "# 11. Write a Python program to Count occurrences of an element in a list?"
   ]
  },
  {
   "cell_type": "code",
   "execution_count": 60,
   "id": "7f62fc76-281a-4673-8557-436729aadcc9",
   "metadata": {},
   "outputs": [
    {
     "name": "stdin",
     "output_type": "stream",
     "text": [
      "Enter numbers separated by spaces:  1 2 3 4 5 6 7 8 9\n",
      "Enter the element to count:  4\n"
     ]
    },
    {
     "name": "stdout",
     "output_type": "stream",
     "text": [
      "The element 4 occurs 1 times in the list.\n"
     ]
    }
   ],
   "source": [
    "def count_occurrences(lst, element):\n",
    "    count = 0 \n",
    "    for num in lst: \n",
    "        if num == element: \n",
    "            count += 1 \n",
    "    return count \n",
    "# Taking input from the user \n",
    "input_str = input(\"Enter numbers separated by spaces: \") \n",
    "numbers = list(map(int, input_str.split())) \n",
    "element = int(input(\"Enter the element to count: \")) \n",
    "# Counting occurrences of the element \n",
    "result = count_occurrences(numbers, element) \n",
    "print(f\"The element {element} occurs {result} times in the list.\")"
   ]
  },
  {
   "cell_type": "code",
   "execution_count": null,
   "id": "d83dd8c1-470c-473c-8bd6-c5e9c4198707",
   "metadata": {},
   "outputs": [],
   "source": []
  }
 ],
 "metadata": {
  "kernelspec": {
   "display_name": "Python 3 (ipykernel)",
   "language": "python",
   "name": "python3"
  },
  "language_info": {
   "codemirror_mode": {
    "name": "ipython",
    "version": 3
   },
   "file_extension": ".py",
   "mimetype": "text/x-python",
   "name": "python",
   "nbconvert_exporter": "python",
   "pygments_lexer": "ipython3",
   "version": "3.12.7"
  }
 },
 "nbformat": 4,
 "nbformat_minor": 5
}
