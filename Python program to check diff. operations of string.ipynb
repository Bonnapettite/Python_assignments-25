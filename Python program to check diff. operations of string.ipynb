{
 "cells": [
  {
   "cell_type": "markdown",
   "id": "dbe898bc-7a4b-4959-8973-fceb6a6c3eda",
   "metadata": {},
   "source": [
    "# 1. Write a Python program to find words which are greater than given length k?"
   ]
  },
  {
   "cell_type": "code",
   "execution_count": 4,
   "id": "672d4a9e-7465-4839-9555-76870126d2bc",
   "metadata": {},
   "outputs": [
    {
     "name": "stdin",
     "output_type": "stream",
     "text": [
      "Enter a string:  Python is a high level language\n",
      "Enter the length k:  4\n"
     ]
    },
    {
     "name": "stdout",
     "output_type": "stream",
     "text": [
      "Words longer than 4 characters are: ['Python', 'level', 'language']\n"
     ]
    }
   ],
   "source": [
    "def find_long_words(input_str, k):\n",
    "    # Split the string into words and filter words longer than k using list comprehension\n",
    "    return [word for word in input_str.split() if len(word) > k]\n",
    "\n",
    "# Taking input from the user\n",
    "input_str = input(\"Enter a string: \")\n",
    "k = int(input(\"Enter the length k: \"))\n",
    "\n",
    "# Finding words greater than length k\n",
    "long_words = find_long_words(input_str, k)\n",
    "\n",
    "print(f\"Words longer than {k} characters are:\", long_words)\n"
   ]
  },
  {
   "cell_type": "markdown",
   "id": "d6a915bb-dc25-46ee-8be2-77f4b73cc82a",
   "metadata": {},
   "source": [
    "# 2. Write a Python program for removing i-th character from a string?"
   ]
  },
  {
   "cell_type": "code",
   "execution_count": 10,
   "id": "ee68e346-e2ff-45d1-bc01-8500eaee1f78",
   "metadata": {},
   "outputs": [
    {
     "name": "stdin",
     "output_type": "stream",
     "text": [
      "Enter a string:  Python is a high level language\n",
      "Enter the index (i) of the character to remove:  8\n"
     ]
    },
    {
     "name": "stdout",
     "output_type": "stream",
     "text": [
      "String after removing the 8-th character: Python i a high level language\n"
     ]
    }
   ],
   "source": [
    "# Taking input from the user\n",
    "input_str = input(\"Enter a string: \")\n",
    "i = int(input(\"Enter the index (i) of the character to remove: \"))\n",
    "\n",
    "# Removing the i-th character using slicing\n",
    "if 0 <= i < len(input_str):\n",
    "    new_str = input_str[:i] + input_str[i+1:]\n",
    "    print(f\"String after removing the {i}-th character: {new_str}\")\n",
    "else:\n",
    "    print(\"Index is out of range.\")"
   ]
  },
  {
   "cell_type": "markdown",
   "id": "a02ace79-0eaf-46c3-9f93-d5121b7027ae",
   "metadata": {},
   "source": [
    "# 3. Write a Python program to split and join a string?"
   ]
  },
  {
   "cell_type": "code",
   "execution_count": 13,
   "id": "7b76f9ba-72ca-4edc-a16d-301e648fb7b9",
   "metadata": {},
   "outputs": [
    {
     "name": "stdin",
     "output_type": "stream",
     "text": [
      "Enter a string:  Hello world this is a test\n"
     ]
    },
    {
     "name": "stdout",
     "output_type": "stream",
     "text": [
      "List of words after splitting: ['Hello', 'world', 'this', 'is', 'a', 'test']\n",
      "String after joining the words: Hello world this is a test\n"
     ]
    }
   ],
   "source": [
    "# Taking input from the user\n",
    "input_str = input(\"Enter a string: \")\n",
    "\n",
    "# Splitting the string into a list of words\n",
    "words_list = input_str.split()\n",
    "\n",
    "# Joining the list of words back into a single string with spaces in between\n",
    "joined_str = \" \".join(words_list)\n",
    "\n",
    "print(\"List of words after splitting:\", words_list)\n",
    "print(\"String after joining the words:\", joined_str)\n"
   ]
  },
  {
   "cell_type": "markdown",
   "id": "295da490-b039-4f7b-a094-a6d2d56f973d",
   "metadata": {},
   "source": [
    "# 4. Write a Python to check if a given string is binary string or not?"
   ]
  },
  {
   "cell_type": "code",
   "execution_count": 22,
   "id": "8458d325-77fe-45d9-bc4f-0a7afdcf7889",
   "metadata": {},
   "outputs": [
    {
     "name": "stdin",
     "output_type": "stream",
     "text": [
      "Enter a string:  01010101111000\n"
     ]
    },
    {
     "name": "stdout",
     "output_type": "stream",
     "text": [
      "'01010101111000' is a binary string.\n"
     ]
    }
   ],
   "source": [
    "def is_binary_string(s):\n",
    "    # Check if all characters in the string are either '0' or '1'\n",
    "    for char in s:\n",
    "        if char not in '01':\n",
    "            return False\n",
    "    return True\n",
    "\n",
    "# Taking input from the user\n",
    "input_str = input(\"Enter a string: \")\n",
    "\n",
    "# Checking if the string is a binary string\n",
    "if is_binary_string(input_str):\n",
    "    print(f\"'{input_str}' is a binary string.\")\n",
    "else:\n",
    "    print(f\"'{input_str}' is not a binary string.\")\n"
   ]
  },
  {
   "cell_type": "code",
   "execution_count": 26,
   "id": "d8f15afb-fda0-4bf8-90d8-23f3dac04f01",
   "metadata": {},
   "outputs": [
    {
     "name": "stdin",
     "output_type": "stream",
     "text": [
      "Enter the first string:  Enter the first string\n",
      "Enter the second string:  enter the second string\n"
     ]
    },
    {
     "name": "stdout",
     "output_type": "stream",
     "text": [
      "Uncommon words from both strings are: ['enter', 'second', 'first', 'Enter']\n"
     ]
    }
   ],
   "source": [
    "def find_uncommon_words(str1, str2):\n",
    "    # Convert both strings to sets of words\n",
    "    set1 = set(str1.split())\n",
    "    set2 = set(str2.split())\n",
    "\n",
    "    # Find uncommon words using symmetric difference\n",
    "    uncommon_words = list(set1.symmetric_difference(set2))\n",
    "\n",
    "    return uncommon_words\n",
    "\n",
    "# Taking input from the user\n",
    "str1 = input(\"Enter the first string: \")\n",
    "str2 = input(\"Enter the second string: \")\n",
    "\n",
    "# Finding uncommon words\n",
    "uncommon_words = find_uncommon_words(str1, str2)\n",
    "\n",
    "print(\"Uncommon words from both strings are:\", uncommon_words)\n"
   ]
  },
  {
   "cell_type": "markdown",
   "id": "50c65f96-1c79-42c4-9dc4-a47fd324a37d",
   "metadata": {},
   "source": [
    "# 6. Write a Python to find all duplicate characters in string?"
   ]
  },
  {
   "cell_type": "code",
   "execution_count": 31,
   "id": "dbcbb7ba-bd64-4534-b4de-520e5062bbc0",
   "metadata": {},
   "outputs": [
    {
     "name": "stdin",
     "output_type": "stream",
     "text": [
      "Enter a string:  hello python world\n"
     ]
    },
    {
     "name": "stdout",
     "output_type": "stream",
     "text": [
      "Duplicate characters in the string are: ['h', 'l', 'o', ' ']\n"
     ]
    }
   ],
   "source": [
    "from collections import Counter\n",
    "\n",
    "def find_duplicates(input_str):\n",
    "    # Count occurrences of each character using Counter\n",
    "    char_count = Counter(input_str)\n",
    "\n",
    "    # Find characters with more than one occurrence\n",
    "    duplicates = [char for char, count in char_count.items() if count > 1]\n",
    "\n",
    "    return duplicates\n",
    "\n",
    "# Taking input from the user\n",
    "input_str = input(\"Enter a string: \")\n",
    "\n",
    "# Finding duplicate characters\n",
    "duplicates = find_duplicates(input_str)\n",
    "\n",
    "print(\"Duplicate characters in the string are:\", duplicates)\n"
   ]
  },
  {
   "cell_type": "markdown",
   "id": "1f4a514e-1c60-4fa9-a31f-18c0e8052070",
   "metadata": {},
   "source": [
    "# 7. Write a Python Program to check if a string contains any special character?"
   ]
  },
  {
   "cell_type": "code",
   "execution_count": 34,
   "id": "c82c5679-cc17-423b-a719-d7258edaace4",
   "metadata": {},
   "outputs": [
    {
     "name": "stdin",
     "output_type": "stream",
     "text": [
      "Enter a string:  atithipratpsingh@gmail.com\n"
     ]
    },
    {
     "name": "stdout",
     "output_type": "stream",
     "text": [
      "The string contains special characters.\n"
     ]
    }
   ],
   "source": [
    "def contains_special_characters(input_str):\n",
    "    # Define the set of special characters\n",
    "    special_characters = \"!@#$%^&*()-+?_=,<>/\"\n",
    "\n",
    "    # Check each character in the string\n",
    "    for char in input_str:\n",
    "        if char in special_characters:\n",
    "            return True\n",
    "    return False\n",
    "\n",
    "# Taking input from the user\n",
    "input_str = input(\"Enter a string: \")\n",
    "\n",
    "# Checking if the string contains any special characters\n",
    "if contains_special_characters(input_str):\n",
    "    print(\"The string contains special characters.\")\n",
    "else:\n",
    "    print(\"The string does not contain any special characters.\")\n"
   ]
  },
  {
   "cell_type": "code",
   "execution_count": null,
   "id": "e1ac7d92-e6d1-437f-8727-55a8677fdf93",
   "metadata": {},
   "outputs": [],
   "source": []
  }
 ],
 "metadata": {
  "kernelspec": {
   "display_name": "Python 3 (ipykernel)",
   "language": "python",
   "name": "python3"
  },
  "language_info": {
   "codemirror_mode": {
    "name": "ipython",
    "version": 3
   },
   "file_extension": ".py",
   "mimetype": "text/x-python",
   "name": "python",
   "nbconvert_exporter": "python",
   "pygments_lexer": "ipython3",
   "version": "3.12.7"
  }
 },
 "nbformat": 4,
 "nbformat_minor": 5
}
