{
 "cells": [
  {
   "cell_type": "markdown",
   "id": "02a63520-5ac8-4bb2-908a-d1c59364777d",
   "metadata": {},
   "source": [
    "# 1. Write a Python Program to Check if a Number is Positive, Negative or Zero?"
   ]
  },
  {
   "cell_type": "code",
   "execution_count": 2,
   "id": "e897394f-2f34-4c5a-ba4f-831465225bb9",
   "metadata": {},
   "outputs": [
    {
     "name": "stdin",
     "output_type": "stream",
     "text": [
      "Enter your number 33\n"
     ]
    },
    {
     "name": "stdout",
     "output_type": "stream",
     "text": [
      "positive\n"
     ]
    }
   ],
   "source": [
    "def number_checker(number):\n",
    "    if number > 0:\n",
    "        return \"positive\"\n",
    "    if number < 0:\n",
    "        return \"negative\"\n",
    "    if number == 0:\n",
    "        return \"numberis Zero\"\n",
    "\n",
    "try:\n",
    "    number = int(input(\"Enter your number\"))\n",
    "    print(number_checker(number))\n",
    "except Exception as e:\n",
    "    print(\"Only numbers are allowed\",e)\n"
   ]
  },
  {
   "cell_type": "markdown",
   "id": "16b49421-a989-4345-9360-d76fa4d407ec",
   "metadata": {},
   "source": [
    "# 2. Write a Python Program to Check if a Number is Odd or Even?"
   ]
  },
  {
   "cell_type": "code",
   "execution_count": 4,
   "id": "04d634da-360e-4e9b-bc4b-7144eded9cd4",
   "metadata": {},
   "outputs": [
    {
     "name": "stdin",
     "output_type": "stream",
     "text": [
      "Enter your number 33\n"
     ]
    },
    {
     "name": "stdout",
     "output_type": "stream",
     "text": [
      "odd\n"
     ]
    }
   ],
   "source": [
    "def even_or_odd(number):\n",
    "    if number%2==0:\n",
    "        return \"even\"\n",
    "    else:\n",
    "        return \"odd\"\n",
    "\n",
    "try:\n",
    "    number= int(input(\"Enter your number\"))\n",
    "    print(even_or_odd(number))\n",
    "\n",
    "except Exception as e:\n",
    "    print(\"Only numbers are allowed\",e)\n",
    "    "
   ]
  },
  {
   "cell_type": "markdown",
   "id": "a8f079b3-dec3-4e25-bfbc-4d95523d1fcb",
   "metadata": {},
   "source": [
    "# 3. Write a Python Program to Check Leap Year?"
   ]
  },
  {
   "cell_type": "code",
   "execution_count": 6,
   "id": "2fd34a37-8d9e-476c-9ea2-6608deae89db",
   "metadata": {},
   "outputs": [
    {
     "name": "stdin",
     "output_type": "stream",
     "text": [
      "Enter the year 2024\n"
     ]
    },
    {
     "name": "stdout",
     "output_type": "stream",
     "text": [
      "leap year\n"
     ]
    }
   ],
   "source": [
    "def Check_leap_year(year):\n",
    "    if (year%4==0 and year%100 !=0) or year%400==0:\n",
    "        return \"leap year\"\n",
    "    else:\n",
    "        return \"not a leap year\"\n",
    "\n",
    "try:\n",
    "    year=int(input(\"Enter the year\"))\n",
    "    print(Check_leap_year(year))\n",
    "except Exception as e:\n",
    "    print(\"Only numbers are allowed\",e)"
   ]
  },
  {
   "cell_type": "markdown",
   "id": "dd3905db-ba02-422f-9325-bd5d9156f4fd",
   "metadata": {},
   "source": [
    "# 4. Write a Python Program to Check Prime Number?"
   ]
  },
  {
   "cell_type": "code",
   "execution_count": 16,
   "id": "21be3244-7c74-4126-87c7-c94490d7e742",
   "metadata": {},
   "outputs": [
    {
     "name": "stdin",
     "output_type": "stream",
     "text": [
      "Enter a number:  100\n"
     ]
    },
    {
     "name": "stdout",
     "output_type": "stream",
     "text": [
      "Not a prime number\n"
     ]
    }
   ],
   "source": [
    "import math\n",
    "\n",
    "def check_prime_number():\n",
    "    try:\n",
    "        num = int(input(\"Enter a number: \"))\n",
    "        if num <= 1:\n",
    "            return \"Not a prime number\"\n",
    "        \n",
    "        # Check for factors from 2 to the square root of num\n",
    "        for i in range(2, int(math.sqrt(num)) + 1):\n",
    "            if num % i == 0:\n",
    "                return \"Not a prime number\"\n",
    "        \n",
    "        return \"Prime number\"\n",
    "    except ValueError:\n",
    "        return \"Only numbers are allowed\"\n",
    "\n",
    "# Call the function\n",
    "result = check_prime_number()\n",
    "print(result)"
   ]
  },
  {
   "cell_type": "markdown",
   "id": "a4591a90-3372-4238-aaf4-bfa37708f47e",
   "metadata": {},
   "source": [
    "# 5. Write a Python Program to Print all Prime Numbers in an Interval of 1-1001?"
   ]
  },
  {
   "cell_type": "code",
   "execution_count": 50,
   "id": "7a2e5f78-d977-4950-983f-b2689c7cf0cd",
   "metadata": {},
   "outputs": [
    {
     "name": "stdout",
     "output_type": "stream",
     "text": [
      "Prime numbers between 1 and 1000 are:\n",
      "[2, 3, 5, 7, 11, 13, 17, 19, 23, 29, 31, 37, 41, 43, 47, 53, 59, 61, 67, 71, 73, 79, 83, 89, 97, 101, 103, 107, 109, 113, 127, 131, 137, 139, 149, 151, 157, 163, 167, 173, 179, 181, 191, 193, 197, 199, 211, 223, 227, 229, 233, 239, 241, 251, 257, 263, 269, 271, 277, 281, 283, 293, 307, 311, 313, 317, 331, 337, 347, 349, 353, 359, 367, 373, 379, 383, 389, 397, 401, 409, 419, 421, 431, 433, 439, 443, 449, 457, 461, 463, 467, 479, 487, 491, 499, 503, 509, 521, 523, 541, 547, 557, 563, 569, 571, 577, 587, 593, 599, 601, 607, 613, 617, 619, 631, 641, 643, 647, 653, 659, 661, 673, 677, 683, 691, 701, 709, 719, 727, 733, 739, 743, 751, 757, 761, 769, 773, 787, 797, 809, 811, 821, 823, 827, 829, 839, 853, 857, 859, 863, 877, 881, 883, 887, 907, 911, 919, 929, 937, 941, 947, 953, 967, 971, 977, 983, 991, 997]\n"
     ]
    }
   ],
   "source": [
    "def list_prime(num):\n",
    "    if num <= 1:\n",
    "        return False\n",
    "    for i in range(2, int(num**0.5) + 1):\n",
    "        if num % i == 0:\n",
    "            return False\n",
    "    return True\n",
    "prime_number = []\n",
    "for num in range(1,1001):\n",
    "    if list_prime(num):\n",
    "        prime_number.append(num)\n",
    "\n",
    "list_prime(num)\n",
    "print(\"Prime numbers between 1 and 1000 are:\")\n",
    "print(prime_number)"
   ]
  },
  {
   "cell_type": "markdown",
   "id": "72efbd7a-4df6-4635-a71c-5413dcda68c5",
   "metadata": {},
   "source": []
  }
 ],
 "metadata": {
  "kernelspec": {
   "display_name": "Python 3 (ipykernel)",
   "language": "python",
   "name": "python3"
  },
  "language_info": {
   "codemirror_mode": {
    "name": "ipython",
    "version": 3
   },
   "file_extension": ".py",
   "mimetype": "text/x-python",
   "name": "python",
   "nbconvert_exporter": "python",
   "pygments_lexer": "ipython3",
   "version": "3.12.7"
  }
 },
 "nbformat": 4,
 "nbformat_minor": 5
}
