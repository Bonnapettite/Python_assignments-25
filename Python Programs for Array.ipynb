{
 "cells": [
  {
   "cell_type": "markdown",
   "id": "b8a132cf-5f62-4177-af9a-e663c1b347b4",
   "metadata": {},
   "source": [
    "# 1. Write a Python Program to find sum of array?"
   ]
  },
  {
   "cell_type": "code",
   "execution_count": 4,
   "id": "5c7d54ec-558e-4696-9488-a9bda001b089",
   "metadata": {},
   "outputs": [
    {
     "name": "stdin",
     "output_type": "stream",
     "text": [
      "Enter the elements of the array separated by spaces:  2 3 4 5 6 7 8 9 1 2 3 4 5 6 7 8 9\n"
     ]
    },
    {
     "name": "stdout",
     "output_type": "stream",
     "text": [
      "The sum of the array elements is: 89\n"
     ]
    }
   ],
   "source": [
    "# Function to calculate the sum of array elements\n",
    "def array_sum(arr):\n",
    "    return sum(arr) \n",
    "# Driver code \n",
    "arr = [int(x) for x in input(\"Enter the elements of the array separated by spaces: \").split()] \n",
    "result = array_sum(arr) \n",
    "print(f\"The sum of the array elements is: {result}\")"
   ]
  },
  {
   "cell_type": "markdown",
   "id": "3d654356-dbc7-4469-b74a-270e8fa2cae1",
   "metadata": {},
   "source": [
    "# 2. Write a Python Program to find largest element in an array?"
   ]
  },
  {
   "cell_type": "code",
   "execution_count": 16,
   "id": "b16f7627-8069-4e0d-a793-46ef277c438a",
   "metadata": {},
   "outputs": [
    {
     "name": "stdin",
     "output_type": "stream",
     "text": [
      "Enter the elements of the array separated by spaces:  5 3 6 9 7  7 8 8 9 9\n"
     ]
    },
    {
     "name": "stdout",
     "output_type": "stream",
     "text": [
      "The largest element in the array is: 9\n"
     ]
    }
   ],
   "source": [
    "# Function to find the largest element in an array \n",
    "def find_largest(arr):\n",
    "    if len(arr) == 0:\n",
    "        return \"The array is empty.\" \n",
    "    largest = arr[0] \n",
    "    for number in arr: \n",
    "        if number > largest:\n",
    "            largest = number \n",
    "    return largest \n",
    "# Driver code \n",
    "arr = [int(x) for x in input(\"Enter the elements of the array separated by spaces: \").split()] \n",
    "largest_element = find_largest(arr) \n",
    "print(f\"The largest element in the array is: {largest_element}\")"
   ]
  },
  {
   "cell_type": "markdown",
   "id": "c177d49c-7b48-4733-b559-375c82581eda",
   "metadata": {},
   "source": [
    "# 3. Write a Python Program for array rotation?"
   ]
  },
  {
   "cell_type": "code",
   "execution_count": 28,
   "id": "25200f16-ef1c-426f-8ebc-60af30101983",
   "metadata": {},
   "outputs": [
    {
     "name": "stdin",
     "output_type": "stream",
     "text": [
      "Enter the elements of the array separated by spaces:  5 6 7 8 9 4 1 2 3\n",
      "Enter the number of positions to rotate:  2\n"
     ]
    },
    {
     "name": "stdout",
     "output_type": "stream",
     "text": [
      "The array after rotating 2 positions to the left is: [7, 8, 9, 4, 1, 2, 3, 5, 6]\n"
     ]
    }
   ],
   "source": [
    "# Function to perform array rotation \n",
    "def rotate_array(arr, d): \n",
    "    n = len(arr) \n",
    "    d = d % n # In case d > n \n",
    "    rotated_array = arr[d:] + arr[:d] \n",
    "    return rotated_array \n",
    "# Driver code \n",
    "arr = [int(x) for x in input(\"Enter the elements of the array separated by spaces: \").split()] \n",
    "d = int(input(\"Enter the number of positions to rotate: \")) \n",
    "rotated_array = rotate_array(arr, d) \n",
    "print(f\"The array after rotating {d} positions to the left is: {rotated_array}\")"
   ]
  },
  {
   "cell_type": "markdown",
   "id": "132065d7-d4a3-4273-91f0-bcc19cc85bf1",
   "metadata": {},
   "source": [
    "# 4. Write a Python Program to Split the array and add the first part to the end?"
   ]
  },
  {
   "cell_type": "code",
   "execution_count": 30,
   "id": "1572911f-de99-4733-91df-0d50ae12721f",
   "metadata": {},
   "outputs": [
    {
     "name": "stdin",
     "output_type": "stream",
     "text": [
      "Enter the elements of the array separated by spaces:  5 6 7 8 9 4 5 6\n",
      "Enter the split index:  3\n"
     ]
    },
    {
     "name": "stdout",
     "output_type": "stream",
     "text": [
      "The array after splitting and adding the first part to the end is: [8, 9, 4, 5, 6, 5, 6, 7]\n"
     ]
    }
   ],
   "source": [
    "# Function to split the array and add the first part to the end \n",
    "def split_and_add(arr, split_index):\n",
    "    if split_index < 0 or split_index > len(arr):\n",
    "        return \"Invalid split index.\" \n",
    "    first_part = arr[:split_index] \n",
    "    second_part = arr[split_index:] \n",
    "    result = second_part + first_part \n",
    "    return result \n",
    "# Driver code \n",
    "arr = [int(x) for x in input(\"Enter the elements of the array separated by spaces: \").split()] \n",
    "split_index = int(input(\"Enter the split index: \")) \n",
    "split_array = split_and_add(arr, split_index)\n",
    "print(f\"The array after splitting and adding the first part to the end is: {split_array}\")"
   ]
  },
  {
   "cell_type": "markdown",
   "id": "ba0330e4-f4dd-46ce-857f-fe2bdc37785d",
   "metadata": {},
   "source": [
    "# 5. Write a Python Program to check if given array is Monotonic?"
   ]
  },
  {
   "cell_type": "code",
   "execution_count": 36,
   "id": "f9769af0-d6e9-4600-87ca-2db70b103d8b",
   "metadata": {},
   "outputs": [
    {
     "name": "stdin",
     "output_type": "stream",
     "text": [
      "Enter the elements of the array separated by spaces:  4 8 9 3 2 1\n"
     ]
    },
    {
     "name": "stdout",
     "output_type": "stream",
     "text": [
      "The array is monotonic.\n"
     ]
    }
   ],
   "source": [
    "# Function to check if an array is monotonic\n",
    "def is_monotonic(arr):\n",
    "    is_increasing = True \n",
    "    is_decreasing = True \n",
    "    for i in range(1, len(arr)):\n",
    "        if arr[i] > arr[i - 1]:\n",
    "            is_decreasing = False \n",
    "        if arr[i] < arr[i - 1]: \n",
    "            is_increasing = False \n",
    "        return is_increasing or is_decreasing \n",
    "# Driver code \n",
    "arr = [int(x) for x in input(\"Enter the elements of the array separated by spaces: \").split()] \n",
    "if is_monotonic(arr):\n",
    "    print(\"The array is monotonic.\") \n",
    "else: \n",
    "    print(\"The array is not monotonic.\")"
   ]
  },
  {
   "cell_type": "code",
   "execution_count": null,
   "id": "1faf81ed-c6fd-463d-9198-4a5b23315f2a",
   "metadata": {},
   "outputs": [],
   "source": []
  }
 ],
 "metadata": {
  "kernelspec": {
   "display_name": "Python 3 (ipykernel)",
   "language": "python",
   "name": "python3"
  },
  "language_info": {
   "codemirror_mode": {
    "name": "ipython",
    "version": 3
   },
   "file_extension": ".py",
   "mimetype": "text/x-python",
   "name": "python",
   "nbconvert_exporter": "python",
   "pygments_lexer": "ipython3",
   "version": "3.12.7"
  }
 },
 "nbformat": 4,
 "nbformat_minor": 5
}
