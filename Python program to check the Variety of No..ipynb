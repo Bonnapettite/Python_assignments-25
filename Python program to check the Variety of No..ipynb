{
 "cells": [
  {
   "cell_type": "markdown",
   "id": "72e24ad3-eb8f-42b7-9175-9f3ef7861fcd",
   "metadata": {},
   "source": [
    "# 1. Write a Python program to check if the given number is a Disarium Number?"
   ]
  },
  {
   "cell_type": "code",
   "execution_count": 22,
   "id": "efd19811-3853-4475-bd9e-673f7954cddd",
   "metadata": {},
   "outputs": [
    {
     "name": "stdout",
     "output_type": "stream",
     "text": [
      "Disarium number\n",
      "135\n"
     ]
    }
   ],
   "source": [
    "number = \"135\"\n",
    "total = 0\n",
    "total = sum([int(value)**(index+1) for index, value in enumerate(number)])\n",
    "if total == int(number):\n",
    "    print(\"Disarium number\")\n",
    "else:\n",
    "    print(\"Not a Disarium number\")\n",
    "print(total)"
   ]
  },
  {
   "cell_type": "markdown",
   "id": "35660d35-bd6e-4815-99d0-8acea0306402",
   "metadata": {},
   "source": [
    "# 2. Write a Python program to print all disarium numbers between 1 to 100?"
   ]
  },
  {
   "cell_type": "code",
   "execution_count": 26,
   "id": "960e03ef-af58-4c59-bd54-e0e91278f319",
   "metadata": {},
   "outputs": [
    {
     "name": "stdout",
     "output_type": "stream",
     "text": [
      "1 Disarium Number\n",
      "2 Disarium Number\n",
      "3 Disarium Number\n",
      "4 Disarium Number\n",
      "5 Disarium Number\n",
      "6 Disarium Number\n",
      "7 Disarium Number\n",
      "8 Disarium Number\n",
      "9 Disarium Number\n",
      "89 Disarium Number\n"
     ]
    }
   ],
   "source": [
    "for i in range(1,101):\n",
    "    total = 0\n",
    "    total = sum([int(value)**(index+1) for index, value in enumerate(str(i))])\n",
    "    if total == int(i):\n",
    "        print(f\"{i} Disarium Number\")"
   ]
  },
  {
   "cell_type": "markdown",
   "id": "8f610c4b-401f-46f0-b432-a700a986e972",
   "metadata": {},
   "source": [
    "# 3. Write a Python program to check if the given number is Happy Number?"
   ]
  },
  {
   "cell_type": "code",
   "execution_count": 41,
   "id": "bd45db39-9ae5-4a32-bb33-6b9e73db747a",
   "metadata": {},
   "outputs": [
    {
     "name": "stdin",
     "output_type": "stream",
     "text": [
      "Enter a number:  19\n"
     ]
    },
    {
     "name": "stdout",
     "output_type": "stream",
     "text": [
      "19 is a happy number.\n"
     ]
    }
   ],
   "source": [
    "def is_happy_number(num):\n",
    "    visited = set()\n",
    "    while num != 1 and num not in visited: \n",
    "        visited.add(num) \n",
    "        num = sum(int(digit) ** 2 for digit in str(num)) \n",
    "    return num == 1 \n",
    "# Driver code \n",
    "number = int(input(\"Enter a number: \")) \n",
    "if is_happy_number(number):\n",
    "    print(f\"{number} is a happy number.\")\n",
    "else:\n",
    "    print(f\"{number} is not a happy number.\")"
   ]
  },
  {
   "cell_type": "markdown",
   "id": "235d63c7-14ca-45f8-8373-3b30711f85b7",
   "metadata": {},
   "source": [
    "# 4. Write a Python program to print all happy numbers between 1 and 100?"
   ]
  },
  {
   "cell_type": "code",
   "execution_count": 62,
   "id": "06d6207c-4ece-479d-9afd-ecb3c7ec2414",
   "metadata": {},
   "outputs": [
    {
     "name": "stdout",
     "output_type": "stream",
     "text": [
      "Happy numbers between 1 and 100 are: [1, 7, 10, 13, 19, 23, 28, 31, 32, 44, 49, 68, 70, 79, 82, 86, 91, 94, 97, 100]\n"
     ]
    }
   ],
   "source": [
    "def is_happy_number(num):\n",
    "    visited = set()\n",
    "    while num != 1 and num not in visited:\n",
    "        visited.add(num) \n",
    "        num = sum(int(digit) ** 2 for digit in str(num)) \n",
    "    return num == 1 \n",
    "def find_happy_numbers_in_range(start, end):\n",
    "    happy_numbers = [] \n",
    "    for num in range(start, end + 1):\n",
    "        if is_happy_number(num):\n",
    "            happy_numbers.append(num) \n",
    "    return happy_numbers \n",
    "# Find happy numbers between 1 and 100 \n",
    "start = 1 \n",
    "end = 100 \n",
    "happy_numbers = find_happy_numbers_in_range(start, end) \n",
    "print(f\"Happy numbers between {start} and {end} are: {happy_numbers}\")"
   ]
  },
  {
   "cell_type": "markdown",
   "id": "dd7bcdb5-b1a4-4ad6-90a5-3b9b007a0720",
   "metadata": {},
   "source": [
    "# 5. Write a Python program to determine whether the given number is a Harshad Number?"
   ]
  },
  {
   "cell_type": "code",
   "execution_count": 67,
   "id": "3376554f-aff7-42c4-8755-b4ff32c4c56e",
   "metadata": {},
   "outputs": [
    {
     "name": "stdin",
     "output_type": "stream",
     "text": [
      "Enter a number:  21\n"
     ]
    },
    {
     "name": "stdout",
     "output_type": "stream",
     "text": [
      "21 is a Harshad number.\n"
     ]
    }
   ],
   "source": [
    "def is_harshad_number(num):\n",
    "    # Calculate the sum of digits of the number \n",
    "    digit_sum = sum(int(digit) for digit in str(num)) \n",
    "    # Check if the number is divisible by the sum of its digits \n",
    "    return num % digit_sum == 0 \n",
    "# Driver code\n",
    "number = int(input(\"Enter a number: \")) \n",
    "if is_harshad_number(number): \n",
    "    print(f\"{number} is a Harshad number.\") \n",
    "else:\n",
    "    print(f\"{number} is not a Harshad number.\")"
   ]
  },
  {
   "cell_type": "markdown",
   "id": "940c00fd-7ad9-4e90-ae8d-1557f96900d5",
   "metadata": {},
   "source": [
    "# 6. Write a Python program to print all pronic numbers between 1 and 100?"
   ]
  },
  {
   "cell_type": "code",
   "execution_count": 72,
   "id": "23b2bb3e-918f-4bef-ab18-b30d1bd08815",
   "metadata": {},
   "outputs": [
    {
     "name": "stdout",
     "output_type": "stream",
     "text": [
      "Pronic numbers between 1 and 100 are: [2, 6, 12, 20, 30, 42, 56, 72, 90]\n"
     ]
    }
   ],
   "source": [
    "def is_pronic_number(num):\n",
    "    n = 0\n",
    "    while n * (n + 1) <= num: \n",
    "        if n * (n + 1) == num: \n",
    "            return True \n",
    "        n += 1 \n",
    "    return False \n",
    "def find_pronic_numbers_in_range(start, end):\n",
    "    pronic_numbers = [] \n",
    "    for num in range(start, end + 1):\n",
    "        if is_pronic_number(num): \n",
    "            pronic_numbers.append(num) \n",
    "    return pronic_numbers \n",
    "# Find pronic numbers between 1 and 100 \n",
    "start = 1\n",
    "end = 100 \n",
    "pronic_numbers = find_pronic_numbers_in_range(start, end) \n",
    "print(f\"Pronic numbers between {start} and {end} are: {pronic_numbers}\")"
   ]
  },
  {
   "cell_type": "code",
   "execution_count": null,
   "id": "5c9179c8-f88f-4605-9d8d-d3b50f667d74",
   "metadata": {},
   "outputs": [],
   "source": []
  }
 ],
 "metadata": {
  "kernelspec": {
   "display_name": "Python 3 (ipykernel)",
   "language": "python",
   "name": "python3"
  },
  "language_info": {
   "codemirror_mode": {
    "name": "ipython",
    "version": 3
   },
   "file_extension": ".py",
   "mimetype": "text/x-python",
   "name": "python",
   "nbconvert_exporter": "python",
   "pygments_lexer": "ipython3",
   "version": "3.12.7"
  }
 },
 "nbformat": 4,
 "nbformat_minor": 5
}
