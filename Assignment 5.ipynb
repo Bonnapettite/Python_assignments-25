{
 "cells": [
  {
   "cell_type": "markdown",
   "id": "6ab6a6ba-7209-4d1d-80c5-633c8f073172",
   "metadata": {},
   "source": [
    "# 1. Write a Python Program to Find LCM?"
   ]
  },
  {
   "cell_type": "code",
   "execution_count": 10,
   "id": "a28ae73b-44b6-4043-bbd7-84677bd7709c",
   "metadata": {},
   "outputs": [
    {
     "name": "stdout",
     "output_type": "stream",
     "text": [
      "22\n",
      "23\n",
      "24\n",
      "25\n",
      "26\n",
      "27\n",
      "28\n",
      "29\n",
      "30\n",
      "31\n",
      "32\n",
      "33\n",
      "34\n",
      "35\n",
      "36\n",
      "37\n",
      "38\n",
      "39\n",
      "40\n",
      "41\n",
      "42\n",
      "43\n",
      "44\n",
      "45\n",
      "46\n",
      "47\n",
      "48\n",
      "49\n",
      "50\n",
      "51\n",
      "52\n",
      "53\n",
      "54\n",
      "55\n",
      "56\n",
      "57\n",
      "58\n",
      "59\n",
      "60\n",
      "61\n",
      "62\n",
      "63\n",
      "64\n",
      "65\n",
      "66\n",
      "67\n",
      "68\n",
      "69\n",
      "70\n",
      "71\n",
      "72\n",
      "73\n",
      "74\n",
      "75\n",
      "76\n",
      "77\n",
      "78\n",
      "79\n",
      "80\n",
      "81\n",
      "82\n",
      "83\n",
      "84\n",
      "85\n",
      "86\n",
      "87\n",
      "88\n",
      "89\n",
      "90\n",
      "91\n",
      "92\n",
      "93\n",
      "94\n",
      "95\n",
      "96\n",
      "97\n",
      "98\n",
      "99\n",
      "100\n",
      "101\n",
      "102\n",
      "103\n",
      "104\n",
      "105\n",
      "106\n",
      "107\n",
      "108\n",
      "109\n",
      "110\n",
      "111\n",
      "112\n",
      "113\n",
      "114\n",
      "115\n",
      "116\n",
      "117\n",
      "118\n",
      "119\n",
      "120\n",
      "121\n",
      "122\n",
      "123\n",
      "124\n",
      "125\n",
      "126\n",
      "127\n",
      "128\n",
      "129\n",
      "130\n",
      "131\n",
      "132\n",
      "133\n",
      "134\n",
      "135\n",
      "136\n",
      "137\n",
      "138\n",
      "139\n",
      "140\n",
      "141\n",
      "142\n",
      "143\n",
      "144\n",
      "145\n",
      "146\n",
      "147\n",
      "148\n",
      "149\n",
      "150\n",
      "151\n",
      "152\n",
      "153\n",
      "154\n",
      "155\n",
      "156\n",
      "157\n",
      "158\n",
      "159\n",
      "160\n",
      "161\n",
      "162\n",
      "163\n",
      "164\n",
      "165\n",
      "166\n",
      "167\n",
      "168\n",
      "169\n",
      "170\n",
      "171\n",
      "172\n",
      "173\n",
      "174\n",
      "175\n",
      "176\n",
      "177\n",
      "178\n",
      "179\n",
      "180\n",
      "181\n",
      "182\n",
      "183\n",
      "184\n",
      "185\n",
      "186\n",
      "187\n",
      "188\n",
      "189\n",
      "190\n",
      "191\n",
      "192\n",
      "193\n",
      "194\n",
      "195\n",
      "196\n",
      "197\n",
      "198\n",
      "199\n",
      "200\n",
      "201\n",
      "202\n",
      "203\n",
      "204\n",
      "205\n",
      "206\n",
      "207\n",
      "208\n",
      "209\n",
      "210\n",
      "211\n",
      "212\n",
      "213\n",
      "214\n",
      "215\n",
      "216\n",
      "217\n",
      "218\n",
      "219\n",
      "The LCM is  220\n"
     ]
    }
   ],
   "source": [
    "def compute_lcm(x,y):\n",
    "    if x>y:\n",
    "        greater =x\n",
    "    else:\n",
    "        greater =y\n",
    "    while(True):\n",
    "        if((greater % x ==0) and (greater % y ==0)):\n",
    "            lcm = greater\n",
    "            break\n",
    "        print(greater)\n",
    "        greater+=1\n",
    "        \n",
    "    return lcm\n",
    "num1=22\n",
    "num2=20\n",
    "print(\"The LCM is \",compute_lcm(num1,num2))\n",
    "\n",
    "        "
   ]
  },
  {
   "cell_type": "markdown",
   "id": "b5432672-76e6-4dd7-b6f5-4577cf8de392",
   "metadata": {},
   "source": [
    "# 2. Write a Python Program to Find HCF?"
   ]
  },
  {
   "cell_type": "code",
   "execution_count": 49,
   "id": "99e368a8-380f-4da3-abe2-586dbe8a6322",
   "metadata": {},
   "outputs": [
    {
     "name": "stdin",
     "output_type": "stream",
     "text": [
      "Enter the first number:  24\n",
      "Enter the second number:  36\n"
     ]
    },
    {
     "name": "stdout",
     "output_type": "stream",
     "text": [
      "The hcf of 24 and 36 is 12.\n"
     ]
    }
   ],
   "source": [
    "def hcf(a, b): \n",
    "    while b:\n",
    "        a, b = b, a % b \n",
    "    return a \n",
    "# Example usage \n",
    "num1 = int(input(\"Enter the first number: \")) \n",
    "num2 = int(input(\"Enter the second number: \")) \n",
    "print(f\"The hcf of {num1} and {num2} is {hcf(num1, num2)}.\")"
   ]
  },
  {
   "cell_type": "markdown",
   "id": "f33ba52b-223f-4ad1-86da-07be6f7a4159",
   "metadata": {},
   "source": [
    "# 3. Write a Python Program to Convert Decimal to Binary, Octal and Hexadecimal?"
   ]
  },
  {
   "cell_type": "code",
   "execution_count": 24,
   "id": "d2f8d5d5-4fb1-4b19-aa2a-dbba4cd9e9e4",
   "metadata": {},
   "outputs": [
    {
     "name": "stdin",
     "output_type": "stream",
     "text": [
      "Enter a decimal number:  12345\n"
     ]
    },
    {
     "name": "stdout",
     "output_type": "stream",
     "text": [
      "Binary representation of 12345 is 11000000111001\n",
      "Octal representation of 12345 is 30071\n",
      "Hexadecimal representation of 12345 is 3039\n"
     ]
    }
   ],
   "source": [
    "def convert_number(num): \n",
    "    binary = bin(num) \n",
    "    octal = oct(num) \n",
    "    hexadecimal = hex(num) \n",
    "    return binary, octal, hexadecimal \n",
    "# Example usage \n",
    "number = int(input(\"Enter a decimal number: \")) \n",
    "binary, octal, hexadecimal = convert_number(number) \n",
    "\n",
    "print(f\"Binary representation of {number} is {binary[2:]}\") \n",
    "print(f\"Octal representation of {number} is {octal[2:]}\") \n",
    "print(f\"Hexadecimal representation of {number} is {hexadecimal[2:]}\")"
   ]
  },
  {
   "cell_type": "markdown",
   "id": "ebab9a8c-c97a-47e2-877a-c094031903c5",
   "metadata": {},
   "source": [
    "# 4. Write a Python Program To Find ASCII value of a character?"
   ]
  },
  {
   "cell_type": "code",
   "execution_count": 31,
   "id": "d39b9cf4-7239-4948-97d8-a58c9f4c3d69",
   "metadata": {},
   "outputs": [
    {
     "name": "stdin",
     "output_type": "stream",
     "text": [
      "Enter a character:  A\n"
     ]
    },
    {
     "name": "stdout",
     "output_type": "stream",
     "text": [
      "The ASCII value of 'A' is 65.\n"
     ]
    }
   ],
   "source": [
    "char = input(\"Enter a character: \") \n",
    "ascii_value = ord(char) \n",
    "print(f\"The ASCII value of '{char}' is {ascii_value}.\")"
   ]
  },
  {
   "cell_type": "markdown",
   "id": "d055d84d-3669-4fb0-a7ac-11ae519a03f4",
   "metadata": {},
   "source": [
    "# 5. Write a Python Program to Make a Simple Calculator with 4 basic mathematical operations?"
   ]
  },
  {
   "cell_type": "code",
   "execution_count": 47,
   "id": "bd8adfb4-4f8a-472a-884a-f776d5069f65",
   "metadata": {},
   "outputs": [
    {
     "name": "stdout",
     "output_type": "stream",
     "text": [
      "Select operation:\n",
      "1. Add\n",
      "2. Subtract\n",
      "3. Multiply\n",
      "4. Divide\n"
     ]
    },
    {
     "name": "stdin",
     "output_type": "stream",
     "text": [
      "Enter choice (1/2/3/4):  1\n",
      "Enter first number:  20\n",
      "Enter second number:  22\n"
     ]
    },
    {
     "name": "stdout",
     "output_type": "stream",
     "text": [
      "20.0 + 22.0 = 42.0\n"
     ]
    },
    {
     "name": "stdin",
     "output_type": "stream",
     "text": [
      "Do you want to perform another calculation? (yes/no):  yes\n",
      "Enter choice (1/2/3/4):  2\n",
      "Enter first number:  99\n",
      "Enter second number:  36\n"
     ]
    },
    {
     "name": "stdout",
     "output_type": "stream",
     "text": [
      "99.0 - 36.0 = 63.0\n"
     ]
    },
    {
     "name": "stdin",
     "output_type": "stream",
     "text": [
      "Do you want to perform another calculation? (yes/no):  no\n"
     ]
    }
   ],
   "source": [
    "def add(x, y): \n",
    "    return x + y \n",
    "def subtract(x, y): \n",
    "    return x - y \n",
    "def multiply(x, y):\n",
    "    return x * y \n",
    "def divide(x, y): \n",
    "    if y == 0: \n",
    "        return \"Error! Division by zero.\" \n",
    "    return x / y \n",
    "def calculator(): \n",
    "    print(\"Select operation:\")\n",
    "    print(\"1. Add\") \n",
    "    print(\"2. Subtract\") \n",
    "    print(\"3. Multiply\") \n",
    "    print(\"4. Divide\") \n",
    "    while True: \n",
    "        choice = input(\"Enter choice (1/2/3/4): \") \n",
    "        if choice in ['1', '2', '3', '4']: \n",
    "            num1 = float(input(\"Enter first number: \")) \n",
    "            num2 = float(input(\"Enter second number: \")) \n",
    "            if choice == '1': \n",
    "                print(f\"{num1} + {num2} = {add(num1, num2)}\") \n",
    "            elif choice == '2': \n",
    "                print(f\"{num1} - {num2} = {subtract(num1, num2)}\") \n",
    "            elif choice == '3': \n",
    "                print(f\"{num1} * {num2} = {multiply(num1, num2)}\") \n",
    "            elif choice == '4': \n",
    "                result = divide(num1, num2) \n",
    "                print(f\"{num1} / {num2} = {result}\") \n",
    "            # Ask if the user wants to perform another calculation\n",
    "            next_calculation = input(\"Do you want to perform another calculation? (yes/no): \") \n",
    "            if next_calculation.lower() != 'yes': \n",
    "                    break \n",
    "        else:\n",
    "            print(\"Invalid Input\") \n",
    "calculator()"
   ]
  },
  {
   "cell_type": "code",
   "execution_count": null,
   "id": "88788803-c301-40f9-b517-441455e8b5ac",
   "metadata": {},
   "outputs": [],
   "source": []
  }
 ],
 "metadata": {
  "kernelspec": {
   "display_name": "Python 3 (ipykernel)",
   "language": "python",
   "name": "python3"
  },
  "language_info": {
   "codemirror_mode": {
    "name": "ipython",
    "version": 3
   },
   "file_extension": ".py",
   "mimetype": "text/x-python",
   "name": "python",
   "nbconvert_exporter": "python",
   "pygments_lexer": "ipython3",
   "version": "3.12.7"
  }
 },
 "nbformat": 4,
 "nbformat_minor": 5
}
